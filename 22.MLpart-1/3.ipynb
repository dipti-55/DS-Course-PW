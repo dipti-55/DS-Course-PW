{
 "cells": [
  {
   "cell_type": "markdown",
   "metadata": {},
   "source": [
    "## Q1: What are missing values in a dataset? Why is it essential to handle missing values? Name some algorithms that are not affected by missing values.\n",
    "\n",
    "**Answer:**\n",
    "Missing values in a dataset occur when no data value is stored for a variable in an observation. These can arise due to incomplete data collection, errors during data entry, or other reasons.\n",
    "\n",
    "Handling missing values is essential because:\n",
    "- They can introduce bias in analysis.\n",
    "- They may distort model performance by making the dataset unrepresentative.\n",
    "- Certain algorithms cannot handle missing values and may break or provide inaccurate results.\n",
    "\n",
    "**Algorithms not affected by missing values:**\n",
    "- Decision Trees\n",
    "- Random Forests\n",
    "- K-Nearest Neighbors (with imputation)\n",
    "- Gradient Boosting (XGBoost, LightGBM with built-in handling)"
   ]
  },
  {
   "cell_type": "markdown",
   "metadata": {},
   "source": [
    "## Q2: List down techniques used to handle missing data.  Give an example of each with python code.\n",
    "\n",
    "**ANSWER**\n",
    "Common techniques to handle missing data:\n",
    "1. **Removing missing values**  \n",
    "   ```python\n",
    "   import pandas as pd\n",
    "   df = pd.DataFrame({'A': [1, 2, None, 4], 'B': [5, None, None, 8]})\n",
    "   df_cleaned = df.dropna()  # Drop rows with missing values\n",
    "   ```\n",
    "   \n",
    "2. **Mean/Median/Mode imputation**\n",
    "   ```python\n",
    "   df['A'].fillna(df['A'].mean(), inplace=True)  # Replace NaN with mean\n",
    "   ```\n",
    "\n",
    "3. **Forward/Backward Fill**\n",
    "   ```python\n",
    "   df.fillna(method='ffill', inplace=True)  # Forward fill missing data\n",
    "   ```\n",
    "\n",
    "4. **Imputation using algorithms (e.g., KNN Imputer)**\n",
    "   ```python\n",
    "   from sklearn.impute import KNNImputer\n",
    "   imputer = KNNImputer(n_neighbors=2)\n",
    "   df_imputed = imputer.fit_transform(df)\n",
    "   ```"
   ]
  },
  {
   "cell_type": "markdown",
   "metadata": {},
   "source": [
    "## Q3: Explain the imbalanced data. What will happen if imbalanced data is not handled?\n",
    "\n",
    "**ANSWER**\n",
    "Imbalanced data occurs when one class significantly outnumbers the other(s), which is common in scenarios like fraud detection or disease diagnosis.\n",
    "\n",
    "If not handled, machine learning models tend to become biased toward the majority class, resulting in:\n",
    "- High accuracy for the majority class, but poor performance for the minority class.\n",
    "- Misleading performance metrics that fail to capture the model’s ability to predict the minority class.\n"
   ]
  },
  {
   "cell_type": "markdown",
   "metadata": {},
   "source": [
    "## Q4: What are Up-sampling and Down-sampling? Explain with an example when up-sampling and down sampling are required.\n",
    "\n",
    "**ANSWER**\n",
    "- **Up-sampling:** Increases the number of instances in the minority class by duplicating or generating synthetic samples.\n",
    "- **Down-sampling:** Reduces the number of instances in the majority class by randomly removing samples.\n",
    "\n",
    "**Example:**\n",
    "In a dataset where 90% of data belongs to class A and 10% to class B:\n",
    "- **Up-sampling:** Add more instances to class B (using SMOTE or random sampling).\n",
    "- **Down-sampling:** Remove some instances from class A.\n",
    "\n",
    "Both are used when the dataset is imbalanced, and we need to balance the class distribution for better model performance.\n"
   ]
  },
  {
   "cell_type": "markdown",
   "metadata": {},
   "source": [
    "## Q5: What is data Augmentation? Explain SMOTE.\n",
    "\n",
    "**ANSWER**\n",
    "**Data augmentation** is the process of artificially increasing the size of a dataset by creating modified versions of existing data. It is commonly used in image processing and other fields where data is scarce.\n",
    "\n",
    "**SMOTE (Synthetic Minority Over-sampling Technique):**  \n",
    "A technique to generate synthetic samples for the minority class by interpolating between nearest neighbors. It helps balance datasets where the minority class is underrepresented."
   ]
  },
  {
   "cell_type": "markdown",
   "metadata": {},
   "source": [
    "## Q6: What are outliers in a dataset? Why is it essential to handle outliers?\n",
    "\n",
    "**ANSWER**\n",
    "Outliers are data points that differ significantly from other observations in the dataset. They can be caused by variability in the data, measurement errors, or other factors.\n",
    "\n",
    "Handling outliers is essential because:\n",
    "- They can skew and distort statistical measures.\n",
    "- They may negatively affect the performance of certain models, such as linear regression.\n",
    "- Outliers may indicate rare but important events (e.g., fraud)."
   ]
  },
  {
   "cell_type": "markdown",
   "metadata": {},
   "source": [
    "## Q7: You are working on a project that requires analyzing customer data. However, you notice that some of the data is missing. What are some techniques you can use to handle the missing data in your analysis?\n",
    "\n",
    "**ANSWER**\n",
    "Techniques to handle missing data in this scenario:\n",
    "- **Removing rows/columns** with too many missing values.\n",
    "- **Imputing missing values** using the mean, median, or mode.\n",
    "- **Using predictive models** like KNN or decision trees to impute missing values.\n",
    "- **Forward/Backward filling** based on time-series continuity."
   ]
  },
  {
   "cell_type": "markdown",
   "metadata": {},
   "source": [
    "## Q8: You are working with a large dataset and find that a small percentage of the data is missing. What are some strategies you can use to determine if the missing data is missing at random or if there is a pattern to the missing data?\n",
    "\n",
    "**ANSWER**\n",
    "Strategies to identify patterns in missing data:\n",
    "- **Visualize missing data** using heatmaps or bar plots to observe trends.\n",
    "- **Use statistical tests** such as Little's MCAR test to check if data is missing completely at random (MCAR).\n",
    "- **Correlation analysis** between missingness and other variables to identify if certain variables are associated with missing data.\n"
   ]
  },
  {
   "cell_type": "markdown",
   "metadata": {},
   "source": [
    "## Q9: Suppose you are working on a medical diagnosis project and find that the majority of patients in the dataset do not have the condition of interest, while a small percentage do. What are some strategies you can use to evaluate the performance of your machine learning model on this imbalanced dataset?\n",
    "\n",
    "**ANSWER**\n",
    "Strategies for evaluating models on imbalanced datasets:\n",
    "- **Use precision, recall, and F1-score** rather than accuracy.\n",
    "- **Use the Area Under the ROC Curve (AUC-ROC)** to evaluate the model's ability to discriminate between classes.\n",
    "- **Confusion matrix** analysis to understand true positives, false positives, and false negatives.\n",
    "- **Use stratified k-fold cross-validation** to ensure balanced representation across training and testing sets.\n"
   ]
  },
  {
   "cell_type": "markdown",
   "metadata": {},
   "source": [
    "## Q10: When attempting to estimate customer satisfaction for a project, you discover that the dataset is unbalanced, with the bulk of customers reporting being satisfied. What methods can you employ to balance the dataset and down-sample the majority class?\n",
    "\n",
    "**ANSWER**\n",
    "Methods to down-sample the majority class:\n",
    "- **Random under-sampling:** Randomly remove instances from the majority class.\n",
    "- **Cluster-based sampling:** Group majority samples into clusters and then select representative samples to reduce bias.\n",
    "- **Edited Nearest Neighbor (ENN):** Removes samples from the majority class that are incorrectly classified by their neighbors.\n"
   ]
  },
  {
   "cell_type": "markdown",
   "metadata": {},
   "source": [
    "## Q11: You discover that the dataset is unbalanced with a low percentage of occurrences while working on a project that requires you to estimate the occurrence of a rare event. What methods can you employ to balance the dataset and up-sample the minority class?\n",
    "\n",
    "**ANSWER**\n",
    "Methods to up-sample the minority class:\n",
    "- **Random over-sampling:** Randomly duplicate instances from the minority class.\n",
    "- **SMOTE (Synthetic Minority Over-sampling Technique):** Generate synthetic samples based on the nearest neighbors.\n",
    "- **ADASYN (Adaptive Synthetic Sampling):** Similar to SMOTE, but focuses on more difficult-to-classify samples.\n"
   ]
  },
  {
   "cell_type": "markdown",
   "metadata": {},
   "source": []
  }
 ],
 "metadata": {
  "kernelspec": {
   "display_name": "Python 3",
   "language": "python",
   "name": "python3"
  },
  "language_info": {
   "name": "python",
   "version": "3.10.10"
  }
 },
 "nbformat": 4,
 "nbformat_minor": 2
}
