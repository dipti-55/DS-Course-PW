{
 "cells": [
  {
   "cell_type": "markdown",
   "metadata": {},
   "source": [
    "# Assignment Questions: Support Vector Machines-3\n",
    "\n",
    "### Q1. In order to predict house price based on several characteristics, such as location, square footage, number of bedrooms, etc., you are developing an SVM regression model. Which regression metric in this situation would be the best to employ?\n",
    "\n",
    "When predicting house prices using an SVM regression model, the best regression metric to employ would be **Mean Absolute Error (MAE)**. This metric provides a straightforward interpretation in terms of the average absolute difference between predicted and actual house prices, making it easier to understand in practical terms.\n",
    "\n",
    "**Why MAE?**\n",
    "- MAE is less sensitive to outliers than metrics like Mean Squared Error (MSE).\n",
    "- It directly represents the average prediction error in the same unit as the target variable (e.g., dollars for house prices).\n",
    "\n",
    "---\n",
    "\n",
    "### Q2. You have built an SVM regression model and are trying to decide between using MSE or R-squared as your evaluation metric. Which metric would be more appropriate if your goal is to predict the actual price of a house as accurately as possible?\n",
    "\n",
    "If your goal is to **predict the actual price of a house as accurately as possible**, **Mean Squared Error (MSE)** would be the more appropriate metric. MSE focuses on minimizing large errors, as it penalizes larger deviations more than smaller ones due to the squaring of errors.\n",
    "\n",
    "**Why MSE?**\n",
    "- MSE will help minimize large prediction errors, which is crucial when predicting house prices.\n",
    "- It is also a better choice when the focus is on improving the precision of individual price predictions.\n",
    "\n",
    "---\n",
    "\n",
    "### Q3. You have a dataset with a significant number of outliers and are trying to select an appropriate regression metric to use with your SVM model. Which metric would be the most appropriate in this scenario?\n",
    "\n",
    "When dealing with a dataset that has a **significant number of outliers**, the best regression metric would be the **Median Absolute Error (MedAE)**. MedAE is robust against outliers because it uses the median of the errors, making it less sensitive to extreme values.\n",
    "\n",
    "**Why MedAE?**\n",
    "- It focuses on the middle of the distribution, which reduces the impact of outliers.\n",
    "- It gives a better indication of the typical performance of the model in the presence of extreme values.\n",
    "\n",
    "---\n",
    "\n",
    "### Q4. You have built an SVM regression model using a polynomial kernel and are trying to select the best metric to evaluate its performance. You have calculated both MSE and RMSE and found that both values are very close. Which metric should you choose to use in this case?\n",
    "\n",
    "If the values of **MSE** and **RMSE** are very close, it is better to use **Root Mean Squared Error (RMSE)**. RMSE is more interpretable because it is in the same unit as the target variable (e.g., dollars for house prices).\n",
    "\n",
    "**Why RMSE?**\n",
    "- RMSE provides a more intuitive sense of the prediction error by being in the same units as the predicted variable.\n",
    "- It is particularly useful when you need a metric that is easier to interpret for stakeholders who are interested in how much prediction error to expect in practical terms.\n",
    "\n",
    "---\n",
    "\n",
    "### Q5. You are comparing the performance of different SVM regression models using different kernels (linear, polynomial, and RBF) and are trying to select the best evaluation metric. Which metric would be most appropriate if your goal is to measure how well the model explains the variance in the target variable?\n",
    "\n",
    "If your goal is to **measure how well the model explains the variance in the target variable**, the most appropriate metric is **R-squared (R²)**. R² explains the proportion of the variance in the target variable that is predictable from the independent variables.\n",
    "\n",
    "**Why R-squared?**\n",
    "- R² gives a clear understanding of how well your model captures the variance in the data.\n",
    "- It is useful when comparing models with different kernels, as it allows you to see which model explains the variance in the target variable the best.\n",
    "\n",
    "---\n"
   ]
  },
  {
   "cell_type": "markdown",
   "metadata": {},
   "source": []
  }
 ],
 "metadata": {
  "language_info": {
   "name": "python"
  }
 },
 "nbformat": 4,
 "nbformat_minor": 2
}
